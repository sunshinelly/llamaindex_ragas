{
 "cells": [
  {
   "cell_type": "code",
   "execution_count": 48,
   "metadata": {},
   "outputs": [],
   "source": [
    "import os\n",
    "os.environ['OPENAI_API_BASE'] = 'https://oneapi.xty.app/v1'\n",
    "os.environ[\"OPENAI_API_KEY\"] = \"sk-9QT7CG36EPZc0snHF7FfEcCf113c4d678e48C8D97fCa8cFf\""
   ]
  },
  {
   "cell_type": "code",
   "execution_count": 49,
   "metadata": {},
   "outputs": [],
   "source": [
    "# 设置分词器：当llama_index需要分词时，会使用指定的tiktoken编码器\n",
    "from llama_index.core import Settings\n",
    "# tiktoken\n",
    "import tiktoken\n",
    "Settings.tokenizer = tiktoken.encoding_for_model(\"gpt-3.5-turbo\").encode"
   ]
  },
  {
   "cell_type": "code",
   "execution_count": 50,
   "metadata": {},
   "outputs": [],
   "source": [
    "# attach to the same event-loop\n",
    "import nest_asyncio\n",
    "nest_asyncio.apply()"
   ]
  },
  {
   "cell_type": "code",
   "execution_count": 51,
   "metadata": {},
   "outputs": [],
   "source": [
    "from llama_index.core import KeywordTableIndex # 创建基于关键词的索引（通过关键词快速检索文档中的信息）\n",
    "from llama_index.core import SimpleDirectoryReader # 读取位于特定目录中的文档（文档可能用于构建索引或进行文本分析）\n",
    "from llama_index.llms.openai import OpenAI"
   ]
  },
  {
   "cell_type": "code",
   "execution_count": 52,
   "metadata": {},
   "outputs": [],
   "source": [
    "# define LLM\n",
    "llm = OpenAI(\n",
    "    temperature=0,  # temperature=0 表示在生成文本时不加入随机性。在语言模型中，temperature是一个用于控制生成文本随机性的参数。temperature为 0 通常意味着模型会生成确定性最高的输出，即最可能的预测。\n",
    "    model=\"gpt-3.5-turbo\",  # 指定要使用的 OpenAI 模型的名称\n",
    "    max_tokens=512 # 设置生成文本的最大令牌数。tokens是语言模型处理的文本的基本单位，通常对应于单词或字符。这个参数限制了模型一次可以生成的文本量，以避免生成过长的输出。\n",
    ")"
   ]
  },
  {
   "cell_type": "code",
   "execution_count": 54,
   "metadata": {},
   "outputs": [],
   "source": [
    "from llama_index.embeddings.huggingface import HuggingFaceEmbedding\n",
    "\n",
    "# 句子嵌入（Sentence Embeddings）是将句子转化为固定大小的向量表示，以便于进行各种NLP任务，如语义相似度比较、文本分类等。sentence-transformers 是一个流行的Python库，用于生成句子嵌入。\n",
    "Settings.embed_model = HuggingFaceEmbedding(\n",
    "    model_name=\"BAAI/bge-small-zh-v1.5\"\n",
    ")"
   ]
  },
  {
   "cell_type": "code",
   "execution_count": 55,
   "metadata": {},
   "outputs": [],
   "source": [
    "# 内置加载器，用于从本地目录加载各种文件类型\n",
    "documents = SimpleDirectoryReader(\"/Users/skbx1060/Documents/RAG/RAGAS/annotation_data/\").load_data()"
   ]
  },
  {
   "cell_type": "code",
   "execution_count": 64,
   "metadata": {},
   "outputs": [],
   "source": [
    "from llama_index.core.node_parser import SentenceSplitter\n",
    "from llama_index.core import VectorStoreIndex\n",
    "# parse nodes\n",
    "parser = SentenceSplitter()\n",
    "nodes = parser.get_nodes_from_documents(documents)\n",
    "\n",
    "# build index\n",
    "index = VectorStoreIndex(nodes,llm=llm)"
   ]
  },
  {
   "cell_type": "code",
   "execution_count": 42,
   "metadata": {},
   "outputs": [],
   "source": [
    "# # build index\n",
    "# index = KeywordTableIndex.from_documents(documents, llm=llm) # LLM实例用于增强索引的构建过程(通过理解文档的语义内容来改进关键词的提取和索引"
   ]
  },
  {
   "cell_type": "code",
   "execution_count": 65,
   "metadata": {},
   "outputs": [],
   "source": [
    "query_engine = index.as_query_engine()"
   ]
  },
  {
   "cell_type": "code",
   "execution_count": 58,
   "metadata": {},
   "outputs": [
    {
     "name": "stdout",
     "output_type": "stream",
     "text": [
      "暴发性心肌炎定义为急骤发作且伴有严重血液动力学障碍的心肌炎症性疾病，通常是一个临床诊断，需要结合临床表现、实验室及影像学检查进行综合分析。\n"
     ]
    }
   ],
   "source": [
    "# get response from query\n",
    "response = query_engine.query(\"暴发性心肌炎的定义是什么？\")\n",
    "print(response)"
   ]
  },
  {
   "cell_type": "markdown",
   "metadata": {},
   "source": [
    "Evaluation"
   ]
  },
  {
   "cell_type": "code",
   "execution_count": 66,
   "metadata": {},
   "outputs": [],
   "source": [
    "eval_questions = [\n",
    "    \"暴发性心肌炎的定义是什么？\",\n",
    "    \"UA有哪些临床表现？\",\n",
    "    \"暴发性心肌炎在病程早期一般需要与哪些心血管系统疾病和其他可以引起相应临床表现的疾病进行区别？\",\n",
    "    \"针对ATTR-CA的治疗分为哪些治疗？\"\n",
    "]\n",
    "\n",
    "eval_answers = [\n",
    "    \"一般将暴发性心肌炎定义为急骤发作且伴有严重血液动力学障碍的心肌炎症性疾病\",\n",
    "    \" UA有以下临床表现：①静息性心绞痛：心绞痛发作在休息时，并且持续时间通常在20 min以上；②初发心绞痛：1个月内新发心绞痛，可表现为自发性发作与劳力性发作并存，疼痛分级在Ⅲ级阱上；③恶化劳力型心绞痛：既往有心绞痛病史，近1个月内心绞痛恶化加重，发作次数频繁、时间延长或痛阈降低(心绞痛分级至少增加1级，或至少达到Ⅲ级)。\",\n",
    "    \"1. 冠心病;2. 病毒性肺炎;3. 脓毒血症性心肌炎;4. 应激性心肌病（ Takotsubo综合征）;5. 普通急性心肌炎;6. 非病毒性暴发性心肌炎\",\n",
    "    \"针对ATTR-CA的治疗分为对症治疗和病因治疗，其靶点治疗包括抑制TTR合成的药物和稳定TTR的药物。\"\n",
    "]\n",
    "\n",
    "eval_answers = [[a] for a in eval_answers]"
   ]
  },
  {
   "cell_type": "code",
   "execution_count": 67,
   "metadata": {},
   "outputs": [],
   "source": [
    "from ragas.metrics import (\n",
    "    faithfulness,\n",
    "    answer_relevancy,\n",
    "    context_precision,\n",
    "    context_recall,\n",
    ")\n",
    "from ragas.metrics.critique import harmfulness\n",
    "\n",
    "metrics = [\n",
    "    faithfulness,\n",
    "    answer_relevancy,\n",
    "    context_precision,\n",
    "    context_recall,\n",
    "    harmfulness,\n",
    "]"
   ]
  },
  {
   "cell_type": "code",
   "execution_count": 72,
   "metadata": {},
   "outputs": [
    {
     "name": "stderr",
     "output_type": "stream",
     "text": [
      "passing column names as 'ground_truths' is deprecated and will be removed in the next version, please use 'ground_truth' instead. Note that `ground_truth` should be of type string and not Sequence[string] like `ground_truths`\n",
      "Evaluating: 100%|██████████| 20/20 [00:37<00:00,  1.88s/it]\n"
     ]
    }
   ],
   "source": [
    "from ragas.llama_index import evaluate\n",
    "result = evaluate(query_engine, metrics, eval_questions, eval_answers)"
   ]
  },
  {
   "cell_type": "code",
   "execution_count": 73,
   "metadata": {},
   "outputs": [
    {
     "name": "stdout",
     "output_type": "stream",
     "text": [
      "{'faithfulness': 0.9167, 'answer_relevancy': 0.6809, 'context_precision': 1.0000, 'context_recall': 1.0000, 'harmfulness': 0.0000}\n"
     ]
    }
   ],
   "source": [
    "print(result)"
   ]
  },
  {
   "cell_type": "code",
   "execution_count": 74,
   "metadata": {},
   "outputs": [
    {
     "data": {
      "text/html": [
       "<div>\n",
       "<style scoped>\n",
       "    .dataframe tbody tr th:only-of-type {\n",
       "        vertical-align: middle;\n",
       "    }\n",
       "\n",
       "    .dataframe tbody tr th {\n",
       "        vertical-align: top;\n",
       "    }\n",
       "\n",
       "    .dataframe thead th {\n",
       "        text-align: right;\n",
       "    }\n",
       "</style>\n",
       "<table border=\"1\" class=\"dataframe\">\n",
       "  <thead>\n",
       "    <tr style=\"text-align: right;\">\n",
       "      <th></th>\n",
       "      <th>question</th>\n",
       "      <th>answer</th>\n",
       "      <th>contexts</th>\n",
       "      <th>ground_truths</th>\n",
       "      <th>ground_truth</th>\n",
       "      <th>faithfulness</th>\n",
       "      <th>answer_relevancy</th>\n",
       "      <th>context_precision</th>\n",
       "      <th>context_recall</th>\n",
       "      <th>harmfulness</th>\n",
       "    </tr>\n",
       "  </thead>\n",
       "  <tbody>\n",
       "    <tr>\n",
       "      <th>0</th>\n",
       "      <td>暴发性心肌炎的定义是什么？</td>\n",
       "      <td>暴发性心肌炎通常被定义为一种急骤发作且伴有严重血液动力学障碍的心肌炎症性疾病。这个定义强调了...</td>\n",
       "      <td>[诊断\\n\\n一般将暴发性心肌炎定义为急骤发作且伴有严重血液动力学障碍的心肌炎症性疾病，因此...</td>\n",
       "      <td>[一般将暴发性心肌炎定义为急骤发作且伴有严重血液动力学障碍的心肌炎症性疾病]</td>\n",
       "      <td>一般将暴发性心肌炎定义为急骤发作且伴有严重血液动力学障碍的心肌炎症性疾病</td>\n",
       "      <td>0.666667</td>\n",
       "      <td>0.929774</td>\n",
       "      <td>1.0</td>\n",
       "      <td>1.0</td>\n",
       "      <td>0</td>\n",
       "    </tr>\n",
       "    <tr>\n",
       "      <th>1</th>\n",
       "      <td>UA有哪些临床表现？</td>\n",
       "      <td>UA的临床表现包括静息性心绞痛、初发心绞痛和恶化劳力型心绞痛。静息性心绞痛的特点是发作在休息...</td>\n",
       "      <td>[(一)临床表现\\n\\n1. UA有以下临床表现：①静息性心绞痛：心绞痛发作在休息时，并且持...</td>\n",
       "      <td>[ UA有以下临床表现：①静息性心绞痛：心绞痛发作在休息时，并且持续时间通常在20 min以...</td>\n",
       "      <td>UA有以下临床表现：①静息性心绞痛：心绞痛发作在休息时，并且持续时间通常在20 min以上...</td>\n",
       "      <td>1.000000</td>\n",
       "      <td>0.000000</td>\n",
       "      <td>1.0</td>\n",
       "      <td>1.0</td>\n",
       "      <td>0</td>\n",
       "    </tr>\n",
       "    <tr>\n",
       "      <th>2</th>\n",
       "      <td>暴发性心肌炎在病程早期一般需要与哪些心血管系统疾病和其他可以引起相应临床表现的疾病进行区别？</td>\n",
       "      <td>In the early stages of the disease, it is gene...</td>\n",
       "      <td>[诊断\\n\\n一般将暴发性心肌炎定义为急骤发作且伴有严重血液动力学障碍的心肌炎症性疾病，因此...</td>\n",
       "      <td>[1. 冠心病;2. 病毒性肺炎;3. 脓毒血症性心肌炎;4. 应激性心肌病（ Takots...</td>\n",
       "      <td>1. 冠心病;2. 病毒性肺炎;3. 脓毒血症性心肌炎;4. 应激性心肌病（ Takotsu...</td>\n",
       "      <td>1.000000</td>\n",
       "      <td>0.826517</td>\n",
       "      <td>1.0</td>\n",
       "      <td>1.0</td>\n",
       "      <td>0</td>\n",
       "    </tr>\n",
       "    <tr>\n",
       "      <th>3</th>\n",
       "      <td>针对ATTR-CA的治疗分为哪些治疗？</td>\n",
       "      <td>针对ATTR-CA的治疗分为对症治疗和病因治疗，其靶点治疗包括抑制TTR合成的药物和稳定TT...</td>\n",
       "      <td>[**治疗**\\n\\n针对ATTR-CA的治疗分为对症治疗和病因治疗，其靶点治疗包括抑制TT...</td>\n",
       "      <td>[针对ATTR-CA的治疗分为对症治疗和病因治疗，其靶点治疗包括抑制TTR合成的药物和稳定T...</td>\n",
       "      <td>针对ATTR-CA的治疗分为对症治疗和病因治疗，其靶点治疗包括抑制TTR合成的药物和稳定TT...</td>\n",
       "      <td>1.000000</td>\n",
       "      <td>0.967227</td>\n",
       "      <td>1.0</td>\n",
       "      <td>1.0</td>\n",
       "      <td>0</td>\n",
       "    </tr>\n",
       "  </tbody>\n",
       "</table>\n",
       "</div>"
      ],
      "text/plain": [
       "                                         question  \\\n",
       "0                                   暴发性心肌炎的定义是什么？   \n",
       "1                                      UA有哪些临床表现？   \n",
       "2  暴发性心肌炎在病程早期一般需要与哪些心血管系统疾病和其他可以引起相应临床表现的疾病进行区别？   \n",
       "3                             针对ATTR-CA的治疗分为哪些治疗？   \n",
       "\n",
       "                                              answer  \\\n",
       "0  暴发性心肌炎通常被定义为一种急骤发作且伴有严重血液动力学障碍的心肌炎症性疾病。这个定义强调了...   \n",
       "1  UA的临床表现包括静息性心绞痛、初发心绞痛和恶化劳力型心绞痛。静息性心绞痛的特点是发作在休息...   \n",
       "2  In the early stages of the disease, it is gene...   \n",
       "3  针对ATTR-CA的治疗分为对症治疗和病因治疗，其靶点治疗包括抑制TTR合成的药物和稳定TT...   \n",
       "\n",
       "                                            contexts  \\\n",
       "0  [诊断\\n\\n一般将暴发性心肌炎定义为急骤发作且伴有严重血液动力学障碍的心肌炎症性疾病，因此...   \n",
       "1  [(一)临床表现\\n\\n1. UA有以下临床表现：①静息性心绞痛：心绞痛发作在休息时，并且持...   \n",
       "2  [诊断\\n\\n一般将暴发性心肌炎定义为急骤发作且伴有严重血液动力学障碍的心肌炎症性疾病，因此...   \n",
       "3  [**治疗**\\n\\n针对ATTR-CA的治疗分为对症治疗和病因治疗，其靶点治疗包括抑制TT...   \n",
       "\n",
       "                                       ground_truths  \\\n",
       "0             [一般将暴发性心肌炎定义为急骤发作且伴有严重血液动力学障碍的心肌炎症性疾病]   \n",
       "1  [ UA有以下临床表现：①静息性心绞痛：心绞痛发作在休息时，并且持续时间通常在20 min以...   \n",
       "2  [1. 冠心病;2. 病毒性肺炎;3. 脓毒血症性心肌炎;4. 应激性心肌病（ Takots...   \n",
       "3  [针对ATTR-CA的治疗分为对症治疗和病因治疗，其靶点治疗包括抑制TTR合成的药物和稳定T...   \n",
       "\n",
       "                                        ground_truth  faithfulness  \\\n",
       "0               一般将暴发性心肌炎定义为急骤发作且伴有严重血液动力学障碍的心肌炎症性疾病      0.666667   \n",
       "1   UA有以下临床表现：①静息性心绞痛：心绞痛发作在休息时，并且持续时间通常在20 min以上...      1.000000   \n",
       "2  1. 冠心病;2. 病毒性肺炎;3. 脓毒血症性心肌炎;4. 应激性心肌病（ Takotsu...      1.000000   \n",
       "3  针对ATTR-CA的治疗分为对症治疗和病因治疗，其靶点治疗包括抑制TTR合成的药物和稳定TT...      1.000000   \n",
       "\n",
       "   answer_relevancy  context_precision  context_recall  harmfulness  \n",
       "0          0.929774                1.0             1.0            0  \n",
       "1          0.000000                1.0             1.0            0  \n",
       "2          0.826517                1.0             1.0            0  \n",
       "3          0.967227                1.0             1.0            0  "
      ]
     },
     "execution_count": 74,
     "metadata": {},
     "output_type": "execute_result"
    }
   ],
   "source": [
    "result.to_pandas()"
   ]
  },
  {
   "cell_type": "code",
   "execution_count": 75,
   "metadata": {},
   "outputs": [
    {
     "name": "stdout",
     "output_type": "stream",
     "text": [
      "暴发性心肌炎的定义是什么？ :\n",
      "----------------------------------------------------------------------------------\n",
      "answer:--------------- 暴发性心肌炎通常被定义为一种急骤发作且伴有严重血液动力学障碍的心肌炎症性疾病。这个定义强调了疾病的急性起病和临床表现，特别是在短时间内出现严重的心脏功能障碍。暴发性心肌炎的诊断往往依赖于临床表现、实验室检查以及影像学检查的综合分析。\n",
      "contexts:------------- ['诊断\\n\\n一般将暴发性心肌炎定义为急骤发作且伴有严重血液动力学障碍的心肌炎症性疾病，因此暴发性心肌炎更多是一个临床诊断而非组织学或病理学诊断，因而诊断需要结合临床表现、实验室及影像学检查综合分析。 当出现发病突然，有明显病毒感染前驱症状尤其是全身乏力、不思饮食继而迅速出现严重的血液动力学障碍、实验室检测显示心肌严重受损、超声心动图可见弥漫性室壁运动减弱时，即可临床诊断暴发性心肌炎。\\n\\n鉴别诊断：由于暴发性心肌炎可累及多器官和系统，临床表现严重且具有多样性，病情进展迅速，在病程早期常需要使用一些检查以排除其他疾病。包括心血管系统疾病和其他可以引起相应临床表现的疾病。\\n\\n1. 冠心病：急性大面积心肌梗死可出现肺淤血水肿导致循环衰竭、休克，心肌标志物可显著升高，暴发性心肌炎需与其进行鉴别。主要通过冠状动脉造影进行鉴别，另外冠心病患者彩色超声心动图可见明显心肌局限性运动异常。\\n2. 病毒性肺炎：重症肺炎合并脓毒血症休克时也可出现心肌标志物轻度一过性升高，但随休克及血氧饱和度的纠正而显著改善。\\n3. 脓毒血症性心肌炎：严重细菌感染休克时毒性损害也可致心肌损伤而加重休克，并可出现明显心脏抑制性表现。早期出现的感染灶及血自细胞早期即显著升高及其他全身表现有助于鉴别。\\n4.'\n",
      " '脓毒血症性心肌炎：严重细菌感染休克时毒性损害也可致心肌损伤而加重休克，并可出现明显心脏抑制性表现。早期出现的感染灶及血自细胞早期即显著升高及其他全身表现有助于鉴别。\\n4. 应激性心肌病（ Takotsubo综合征） ： 又称心尖球形综合征，好发于绝经期后女性，有胸痛、心电图 ST-T改变以及心肌损伤标志物升高。 常有强烈精神刺激等诱因。左心室造影可见节段性室壁运动异常，超过单一冠状动脉供血范围，最常见的是心尖部室壁运动异常，呈特征性章鱼萎样改变。冠状动脉造影结果阴性或轻度冠状动脉粥样硬化。左心室功能恢复快，常仅需支持治疗。\\n5. 普通急性心肌炎：暴发性心肌炎通常有前期感染史、起病急骤、发展迅速、病情重且心功能损害明显，治疗后迅速好转并恢复正常，长期预后好。相反，急性心肌炎上述特点均不突出，病情可长期迁延而成为慢性或持续性心肌炎或心肌病改变。\\n6. 非病毒性暴发性心肌炎：包括自身免疫性疾病、药物毒性和药物过敏等所致的急性暴发性心肌炎，临床上通常没有病毒感染的前期表现，而有自身免疫疾病史、使用毒性药物尤其是抗肿瘤药物或致过敏药物史，疾病发生同样迅速凶险。临床治疗除不用抗病毒药物外，其他与本病相似。\\n\\n表1  临床疑诊心肌炎或暴发性心肌炎行辅助检查的建议\\n\\n\\n| **辅助检**查                  | **建**议                                                                                                                                                                                  |\\n| ------------------------------- | ------------------------------------------------------------------------------------------------------------------------------------------------------------------------------------------- |\\n| **实验室检**查']\n",
      "ground_truth:--------- ['一般将暴发性心肌炎定义为急骤发作且伴有严重血液动力学障碍的心肌炎症性疾病']\n",
      "\n",
      "\n",
      "UA有哪些临床表现？ :\n",
      "----------------------------------------------------------------------------------\n",
      "answer:--------------- UA的临床表现包括静息性心绞痛、初发心绞痛和恶化劳力型心绞痛。静息性心绞痛的特点是发作在休息时，并且持续时间通常在20分钟以上。初发心绞痛是指1个月内新发心绞痛，可表现为自发性发作与劳力性发作并存，疼痛分级在Ⅲ级阱上。恶化劳力型心绞痛则是指既往有心绞痛病史，近1个月内心绞痛恶化加重，发作次数频繁、时间延长或痛阈降低。\n",
      "contexts:------------- ['(一)临床表现\\n\\n1. UA有以下临床表现：①静息性心绞痛：心绞痛发作在休息时，并且持续时间通常在20 min以上；②初发心绞痛：1个月内新发心绞痛，可表现为自发性发作与劳力性发作并存，疼痛分级在Ⅲ级阱上；③恶化劳力型心绞痛：既往有心绞痛病史，近1个月内心绞痛恶化加重，发作次数频繁、时间延长或痛阈降低(心绞痛分级至少增加1级，或至少达到Ⅲ级)(表1)。\\n   变异性心绞痛也是 UA 的一种,通常是自发性。其特点是一过性 ST 段抬高,多数自行缓解，不演变为心肌梗死,但少数可演变成心肌梗死。动脉硬化斑块导致局部内皮功能亲乱和冠状动脉将变是其发病原因,硝酸甘油和钙离子拮抗剂可以使其缓解。\\n   NSTEMI 的临床表现与 WA 相似但是比 UA 更严重,持续时间更长，UA 可发展为 NSTEMI或ST 段抬高的心肌梗死。\\n2. 体征:大部分 UA/NSTEMI 可无明显体征，高危患者心肌缺血引起的心功能不全可有新出现的肺部啰音或原有啰音增加,出现第三心音(S3)、心动过缓或心动过速，以及新出现二尖瓣关闭不全等体征。\\n3.'\n",
      " '心脏外表现：ATTR还可沉积在心脏以外的组织脏器引起各种表现。ATTRm常见的心脏外表现有多发周围感觉运动神经病变（通常被称为家族性淀粉样多发PN），表现为首发于下肢、自远端至近端的神经性疼痛和/或感觉异常，之后出现运动功能受损，肌肉无力和无法行走。自主神经功能受累也比较常见，表现为出汗障碍、便秘与腹泻交替以至营养不良和体重下降、体位性低血压、勃起障碍和尿潴留等。ATTRm患者眼部和中枢神经系统也可受累，眼部表现有玻璃体混浊（絮状淀粉样蛋白沉积）、青光眼及角膜炎，中枢神经系统受累是由软脑膜淀粉样血管病所致，可引起局灶性神经功能缺损、癫痫、脑出血和痴呆。ATTRwt患者的神经表现、眼部异常较为少见，淀粉样物质易沉积于腰椎管及腕管软组织引起腰椎管狭窄和双侧腕管综合征，前者发生率为14%，后者的发生率高达33%~60%。而且腕管综合征可在心脏症状出现前10年左右发生。ATTRm患者也可出现腕管综合征，但是往往合并PN和自主神经功能异常。ATTRm患者由于TTR沉积于肾脏也可能会出现蛋白尿（少量至大量不等）和/或肾功能不全，甚至发生需要透析的终末期肾病。总之，由于该疾病的异质性及多系统的表现，与其他疾病存在重叠，易造成延迟诊断和误诊。']\n",
      "ground_truth:--------- [' UA有以下临床表现：①静息性心绞痛：心绞痛发作在休息时，并且持续时间通常在20 min以上；②初发心绞痛：1个月内新发心绞痛，可表现为自发性发作与劳力性发作并存，疼痛分级在Ⅲ级阱上；③恶化劳力型心绞痛：既往有心绞痛病史，近1个月内心绞痛恶化加重，发作次数频繁、时间延长或痛阈降低(心绞痛分级至少增加1级，或至少达到Ⅲ级)。']\n",
      "\n",
      "\n",
      "暴发性心肌炎在病程早期一般需要与哪些心血管系统疾病和其他可以引起相应临床表现的疾病进行区别？ :\n",
      "----------------------------------------------------------------------------------\n",
      "answer:--------------- In the early stages of the disease, it is generally necessary to differentiate acute myocarditis from conditions such as coronary artery disease, viral pneumonia, septic myocarditis, stress-induced cardiomyopathy (Takotsubo syndrome), common acute myocarditis, and non-viral acute myocarditis caused by autoimmune diseases, drug toxicity, or drug allergies.\n",
      "contexts:------------- ['诊断\\n\\n一般将暴发性心肌炎定义为急骤发作且伴有严重血液动力学障碍的心肌炎症性疾病，因此暴发性心肌炎更多是一个临床诊断而非组织学或病理学诊断，因而诊断需要结合临床表现、实验室及影像学检查综合分析。 当出现发病突然，有明显病毒感染前驱症状尤其是全身乏力、不思饮食继而迅速出现严重的血液动力学障碍、实验室检测显示心肌严重受损、超声心动图可见弥漫性室壁运动减弱时，即可临床诊断暴发性心肌炎。\\n\\n鉴别诊断：由于暴发性心肌炎可累及多器官和系统，临床表现严重且具有多样性，病情进展迅速，在病程早期常需要使用一些检查以排除其他疾病。包括心血管系统疾病和其他可以引起相应临床表现的疾病。\\n\\n1. 冠心病：急性大面积心肌梗死可出现肺淤血水肿导致循环衰竭、休克，心肌标志物可显著升高，暴发性心肌炎需与其进行鉴别。主要通过冠状动脉造影进行鉴别，另外冠心病患者彩色超声心动图可见明显心肌局限性运动异常。\\n2. 病毒性肺炎：重症肺炎合并脓毒血症休克时也可出现心肌标志物轻度一过性升高，但随休克及血氧饱和度的纠正而显著改善。\\n3. 脓毒血症性心肌炎：严重细菌感染休克时毒性损害也可致心肌损伤而加重休克，并可出现明显心脏抑制性表现。早期出现的感染灶及血自细胞早期即显著升高及其他全身表现有助于鉴别。\\n4.'\n",
      " '脓毒血症性心肌炎：严重细菌感染休克时毒性损害也可致心肌损伤而加重休克，并可出现明显心脏抑制性表现。早期出现的感染灶及血自细胞早期即显著升高及其他全身表现有助于鉴别。\\n4. 应激性心肌病（ Takotsubo综合征） ： 又称心尖球形综合征，好发于绝经期后女性，有胸痛、心电图 ST-T改变以及心肌损伤标志物升高。 常有强烈精神刺激等诱因。左心室造影可见节段性室壁运动异常，超过单一冠状动脉供血范围，最常见的是心尖部室壁运动异常，呈特征性章鱼萎样改变。冠状动脉造影结果阴性或轻度冠状动脉粥样硬化。左心室功能恢复快，常仅需支持治疗。\\n5. 普通急性心肌炎：暴发性心肌炎通常有前期感染史、起病急骤、发展迅速、病情重且心功能损害明显，治疗后迅速好转并恢复正常，长期预后好。相反，急性心肌炎上述特点均不突出，病情可长期迁延而成为慢性或持续性心肌炎或心肌病改变。\\n6. 非病毒性暴发性心肌炎：包括自身免疫性疾病、药物毒性和药物过敏等所致的急性暴发性心肌炎，临床上通常没有病毒感染的前期表现，而有自身免疫疾病史、使用毒性药物尤其是抗肿瘤药物或致过敏药物史，疾病发生同样迅速凶险。临床治疗除不用抗病毒药物外，其他与本病相似。\\n\\n表1  临床疑诊心肌炎或暴发性心肌炎行辅助检查的建议\\n\\n\\n| **辅助检**查                  | **建**议                                                                                                                                                                                  |\\n| ------------------------------- | ------------------------------------------------------------------------------------------------------------------------------------------------------------------------------------------- |\\n| **实验室检**查']\n",
      "ground_truth:--------- ['1. 冠心病;2. 病毒性肺炎;3. 脓毒血症性心肌炎;4. 应激性心肌病（ Takotsubo综合征）;5. 普通急性心肌炎;6. 非病毒性暴发性心肌炎']\n",
      "\n",
      "\n",
      "针对ATTR-CA的治疗分为哪些治疗？ :\n",
      "----------------------------------------------------------------------------------\n",
      "answer:--------------- 针对ATTR-CA的治疗分为对症治疗和病因治疗，其靶点治疗包括抑制TTR合成的药物和稳定TTR的药物。\n",
      "contexts:------------- ['**治疗**\\n\\n针对ATTR-CA的治疗分为对症治疗和病因治疗，其靶点治疗包括抑制TTR合成的药物和稳定TTR的药物。'\n",
      " '抑制TTR基因表达：主要包括两类药物，一类是小干扰RNA，另一类是反义寡核苷酸，都是通过阻止信使RNA转录减少TTR蛋白生成。patisiran是一种小干扰RNA，可减少ATTRm患者体内85%TTR蛋白的产生，改善ATTRm-PN患者的神经功能以及合并心脏受累患者的左心室壁厚度和收缩功能。2018年8月，美国FDA批准patisiran用于治疗ATTRm-PN，目前尚未在中国上市。patisiran治疗ATTR-CA患者的Ⅲ期临床试验（NCT03997383）也正在进行中。\\n\\n   inotersen为反义寡核苷酸，可显著降低ATTRm-PN患者体内TTR蛋白水平，同时改善患者的神经系统评分和生活质量。2018年10月美国FDA批准inotersen用于治疗ATTRm-PN，同样目前尚未在我国上市。inotersen治疗ATTR-CA的Ⅱ期临床试验正在进行（NCT03702829）。这些研究结果将为基因沉默药物治疗ATTR-CA的有效性和安全性提供依据。\\n\\n   总之，ATTR作为一种多系统受累的全身性疾病，严重影响患者的生活质量和寿命，尤其累及心脏时（ATTR-CA），预后更差。ATTR-CA早期缺乏特异性临床表现，这为诊断带来很大的挑战。随着对ATTR-CA认识的不断深入以及99Tcm-PYP等无创诊断技术的开展，使ATTR-CA早期诊断成为可能。此外，尽管目前对于已经沉积的淀粉样蛋白对脏器功能的损害尚缺乏有效手段，但已有药物能够稳定或减少前体蛋白质，防止或延迟淀粉样蛋白沉积，可有效改善患者预后。因此，关注高危人群的筛查，早期诊断ATTR-CA尤为重要。本共识旨在强化高危人群的识别、筛查和评估，建立规范的诊治流程，以期ATTR-CA患者可以被早诊断、早治疗，从而改善预后。']\n",
      "ground_truth:--------- ['针对ATTR-CA的治疗分为对症治疗和病因治疗，其靶点治疗包括抑制TTR合成的药物和稳定TTR的药物。']\n",
      "\n",
      "\n"
     ]
    }
   ],
   "source": [
    "result_new = result.to_pandas()\n",
    "# print(type(result))\n",
    "# print(type(result_new))\n",
    "# print(len(result))\n",
    "# print(len(result_new))\n",
    "# print(result_new.columns)\n",
    "for i in range(len(result_new)):\n",
    "    print(result_new['question'][i],':')\n",
    "    print('----------------------------------------------------------------------------------')\n",
    "    print('answer:---------------',result_new['answer'][i])\n",
    "    print('contexts:-------------',result_new['contexts'][i])\n",
    "    print('ground_truth:---------',result_new['ground_truths'][i])\n",
    "    print('\\n')"
   ]
  }
 ],
 "metadata": {
  "kernelspec": {
   "display_name": "base",
   "language": "python",
   "name": "python3"
  },
  "language_info": {
   "codemirror_mode": {
    "name": "ipython",
    "version": 3
   },
   "file_extension": ".py",
   "mimetype": "text/x-python",
   "name": "python",
   "nbconvert_exporter": "python",
   "pygments_lexer": "ipython3",
   "version": "3.11.5"
  }
 },
 "nbformat": 4,
 "nbformat_minor": 2
}
